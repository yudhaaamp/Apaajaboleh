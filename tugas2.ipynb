{
  "nbformat": 4,
  "nbformat_minor": 0,
  "metadata": {
    "colab": {
      "provenance": [],
      "authorship_tag": "ABX9TyNE5NmiK2ElQrrjl9iriI+z",
      "include_colab_link": true
    },
    "kernelspec": {
      "name": "python3",
      "display_name": "Python 3"
    },
    "language_info": {
      "name": "python"
    }
  },
  "cells": [
    {
      "cell_type": "markdown",
      "metadata": {
        "id": "view-in-github",
        "colab_type": "text"
      },
      "source": [
        "<a href=\"https://colab.research.google.com/github/yudhaaamp/Apaajaboleh/blob/main/tugas2.ipynb\" target=\"_parent\"><img src=\"https://colab.research.google.com/assets/colab-badge.svg\" alt=\"Open In Colab\"/></a>"
      ]
    },
    {
      "cell_type": "code",
      "execution_count": 50,
      "metadata": {
        "id": "aORaYztnG1CI"
      },
      "outputs": [],
      "source": [
        "import numpy as np\n",
        "import matplotlib.pyplot as plt\n",
        "import pandas as pd"
      ]
    },
    {
      "cell_type": "markdown",
      "source": [
        "NumPy (numpy as np) → Digunakan untuk komputasi numerik dan operasi pada array.\n",
        "\n",
        "Matplotlib (matplotlib.pyplot as plt) → Digunakan untuk membuat grafik dan visualisasi data.\n",
        "\n",
        "Pandas (pandas as pd) → Digunakan untuk mengelola dan menganalisis data dalam bentuk tabel (DataFrame)."
      ],
      "metadata": {
        "id": "40MphURGJfhe"
      }
    },
    {
      "cell_type": "code",
      "source": [
        "dataset = pd.read_csv('Data_Uni.csv')\n",
        "x = dataset.iloc[:, :-1].values\n",
        "y = dataset.iloc[:, -1].values"
      ],
      "metadata": {
        "id": "KNBMUBAeJwEx"
      },
      "execution_count": 51,
      "outputs": []
    },
    {
      "cell_type": "markdown",
      "source": [
        "**dataset = pd.read_csv('Data_Uni.csv')**\n",
        "-> Membaca file CSV bernama Data_Uni.csv ke dalam sebuah DataFrame dataset menggunakan pandas.\n",
        "\n",
        "**x = dataset.iloc[:, :-1].values**\n",
        "-> Mengambil semua baris (:) dan semua kolom kecuali kolom terakhir (:-1) sebagai fitur (X).\n",
        "-> .values mengonversi DataFrame menjadi array NumPy.\n",
        "\n",
        "**y = dataset.iloc[:, -1].values**\n",
        "-> Mengambil semua baris (:) tetapi hanya kolom terakhir (-1) sebagai target (Y)."
      ],
      "metadata": {
        "id": "X8-syJNTKG6q"
      }
    },
    {
      "cell_type": "code",
      "source": [
        "print(x)"
      ],
      "metadata": {
        "colab": {
          "base_uri": "https://localhost:8080/"
        },
        "id": "86xMs2AqMmoi",
        "outputId": "3f93ffdc-353a-4537-a014-06be1989c60f"
      },
      "execution_count": 52,
      "outputs": [
        {
          "output_type": "stream",
          "name": "stdout",
          "text": [
            "[['Vietnam' 27 3.75]\n",
            " ['Malaysia' 24 3.77]\n",
            " ['Thailand' 26 2.46]\n",
            " ['Vietnam' 25 2.17]\n",
            " ['Malaysia' 24 3.68]\n",
            " ['Singapura' 20 2.08]\n",
            " ['Indonesia' 27 2.79]\n",
            " ['Singapura' 27 3.22]\n",
            " ['Indonesia' 23 3.5]\n",
            " ['Malaysia' 26 3.88]\n",
            " ['Malaysia' 23 2.82]\n",
            " ['Indonesia' 29 3.17]\n",
            " ['Thailand' 29 2.8]\n",
            " ['Singapura' 27 3.32]\n",
            " ['Malaysia' 26 3.74]\n",
            " ['Malaysia' 22 3.43]\n",
            " ['Thailand' 26 2.61]\n",
            " ['Singapura' 22 2.38]\n",
            " ['Vietnam' 28 2.05]\n",
            " ['Indonesia' 28 2.72]]\n"
          ]
        }
      ]
    },
    {
      "cell_type": "code",
      "source": [
        "print(y)"
      ],
      "metadata": {
        "colab": {
          "base_uri": "https://localhost:8080/"
        },
        "id": "p0H7ASPxM1IC",
        "outputId": "48e89356-843e-41fa-e661-15d48faa2ba4"
      },
      "execution_count": 53,
      "outputs": [
        {
          "output_type": "stream",
          "name": "stdout",
          "text": [
            "['Ya' 'Ya' 'Tidak' 'Tidak' 'Ya' 'Tidak' 'Tidak' 'Tidak' 'Ya' 'Ya' 'Tidak'\n",
            " 'Tidak' 'Tidak' 'Tidak' 'Ya' 'Tidak' 'Tidak' 'Tidak' 'Tidak' 'Tidak']\n"
          ]
        }
      ]
    },
    {
      "cell_type": "code",
      "source": [
        "from sklearn.model_selection import train_test_split\n",
        "x_train, x_test, y_train, y_test = train_test_split(x, y, test_size = 0.2, random_state = 0)"
      ],
      "metadata": {
        "id": "BxXVhtkoK8if"
      },
      "execution_count": 54,
      "outputs": []
    },
    {
      "cell_type": "markdown",
      "source": [
        "**from sklearn.model_selection import train_test_split**\n",
        "\n",
        "-> Mengimpor fungsi train_test_split dari pustaka scikit-learn, yang digunakan untuk membagi dataset menjadi subset pelatihan dan pengujian.\n",
        "\n",
        "**train_test_split(x, y, test_size=0.2, random_state=0)**\n",
        "\n",
        "x → Data fitur (input).\n",
        "\n",
        "y → Data target (output).\n",
        "\n",
        "**test_size=0.2** → 20% data digunakan untuk pengujian, sedangkan 80% untuk pelatihan.\n",
        "\n",
        "**random_state=0** → Memastikan pembagian data selalu sama setiap kali kode dijalankan (agar hasilnya konsisten).\n",
        "\n",
        "**Variabel hasil:**\n",
        "\n",
        "x_train → Data fitur untuk pelatihan.\n",
        "\n",
        "x_test → Data fitur untuk pengujian.\n",
        "\n",
        "y_train → Target untuk pelatihan.\n",
        "\n",
        "y_test → Target untuk pengujian."
      ],
      "metadata": {
        "id": "d5y_hO5vL36B"
      }
    },
    {
      "cell_type": "code",
      "source": [
        "print(x)"
      ],
      "metadata": {
        "colab": {
          "base_uri": "https://localhost:8080/"
        },
        "id": "Uj6jd2DDMaHg",
        "outputId": "1ac84f33-1c75-4fca-c6df-47b49d9030dc"
      },
      "execution_count": 55,
      "outputs": [
        {
          "output_type": "stream",
          "name": "stdout",
          "text": [
            "[['Vietnam' 27 3.75]\n",
            " ['Malaysia' 24 3.77]\n",
            " ['Thailand' 26 2.46]\n",
            " ['Vietnam' 25 2.17]\n",
            " ['Malaysia' 24 3.68]\n",
            " ['Singapura' 20 2.08]\n",
            " ['Indonesia' 27 2.79]\n",
            " ['Singapura' 27 3.22]\n",
            " ['Indonesia' 23 3.5]\n",
            " ['Malaysia' 26 3.88]\n",
            " ['Malaysia' 23 2.82]\n",
            " ['Indonesia' 29 3.17]\n",
            " ['Thailand' 29 2.8]\n",
            " ['Singapura' 27 3.32]\n",
            " ['Malaysia' 26 3.74]\n",
            " ['Malaysia' 22 3.43]\n",
            " ['Thailand' 26 2.61]\n",
            " ['Singapura' 22 2.38]\n",
            " ['Vietnam' 28 2.05]\n",
            " ['Indonesia' 28 2.72]]\n"
          ]
        }
      ]
    },
    {
      "cell_type": "code",
      "source": [
        "print(y)"
      ],
      "metadata": {
        "colab": {
          "base_uri": "https://localhost:8080/"
        },
        "id": "RUfeoed_Njoc",
        "outputId": "b9d478b0-9f80-46f5-eef0-7af23b9734a8"
      },
      "execution_count": 56,
      "outputs": [
        {
          "output_type": "stream",
          "name": "stdout",
          "text": [
            "['Ya' 'Ya' 'Tidak' 'Tidak' 'Ya' 'Tidak' 'Tidak' 'Tidak' 'Ya' 'Ya' 'Tidak'\n",
            " 'Tidak' 'Tidak' 'Tidak' 'Ya' 'Tidak' 'Tidak' 'Tidak' 'Tidak' 'Tidak']\n"
          ]
        }
      ]
    },
    {
      "cell_type": "code",
      "source": [
        "from sklearn.impute import SimpleImputer\n",
        "imputer = SimpleImputer(missing_values=np.nan, strategy='mean')\n",
        "imputer.fit(x[:, 1:3])\n",
        "x[:, 1:3] = imputer.transform(x[:, 1:3])"
      ],
      "metadata": {
        "id": "s03YE21oODqn"
      },
      "execution_count": 57,
      "outputs": []
    },
    {
      "cell_type": "markdown",
      "source": [
        "**SimpleImputer** dari **sklearn.impute** digunakan untuk mengisi nilai yang hilang dalam dataset.\n",
        "\n",
        "**missing_values=np.nan** → Menentukan bahwa nilai yang hilang di dataset ditandai dengan NaN.\n",
        "\n",
        "s**trategy='mean'** → Mengisi nilai yang hilang dengan rata-rata dari kolom terkait.\n",
        "\n",
        "**x[:, 1:3]** → Memilih kolom indeks 1 dan 2 dari x untuk diisi (biasanya kolom numerik).\n",
        "\n",
        "**.fit()** → Menganalisis data dan menghitung rata-rata untuk kolom yang memiliki nilai NaN.\n",
        "\n",
        "**.transform()** → Mengganti nilai NaN dengan rata-rata yang telah dihitung sebelumnya.\n",
        "\n",
        "**x[:, 1:3] = ...** → Menyimpan kembali hasil transformasi ke dalam dataset x."
      ],
      "metadata": {
        "id": "ZAOLLIdQOqvQ"
      }
    },
    {
      "cell_type": "code",
      "source": [
        "print(x)"
      ],
      "metadata": {
        "colab": {
          "base_uri": "https://localhost:8080/"
        },
        "id": "2fA1hMpAPIO3",
        "outputId": "f206e23d-4c46-47a4-f48e-1faa9dffc908"
      },
      "execution_count": 58,
      "outputs": [
        {
          "output_type": "stream",
          "name": "stdout",
          "text": [
            "[['Vietnam' 27.0 3.75]\n",
            " ['Malaysia' 24.0 3.77]\n",
            " ['Thailand' 26.0 2.46]\n",
            " ['Vietnam' 25.0 2.17]\n",
            " ['Malaysia' 24.0 3.68]\n",
            " ['Singapura' 20.0 2.08]\n",
            " ['Indonesia' 27.0 2.79]\n",
            " ['Singapura' 27.0 3.22]\n",
            " ['Indonesia' 23.0 3.5]\n",
            " ['Malaysia' 26.0 3.88]\n",
            " ['Malaysia' 23.0 2.82]\n",
            " ['Indonesia' 29.0 3.17]\n",
            " ['Thailand' 29.0 2.8]\n",
            " ['Singapura' 27.0 3.32]\n",
            " ['Malaysia' 26.0 3.74]\n",
            " ['Malaysia' 22.0 3.43]\n",
            " ['Thailand' 26.0 2.61]\n",
            " ['Singapura' 22.0 2.38]\n",
            " ['Vietnam' 28.0 2.05]\n",
            " ['Indonesia' 28.0 2.72]]\n"
          ]
        }
      ]
    },
    {
      "cell_type": "code",
      "source": [
        "from sklearn.compose import ColumnTransformer\n",
        "from sklearn.preprocessing import OneHotEncoder\n",
        "ct = ColumnTransformer(transformers=[('encoder', OneHotEncoder(), [0])], remainder='passthrough')\n",
        "x = np.array(ct.fit_transform(x))"
      ],
      "metadata": {
        "id": "IzxZraIRPRoG"
      },
      "execution_count": 59,
      "outputs": []
    },
    {
      "cell_type": "markdown",
      "source": [
        "**ColumnTransformer** digunakan untuk menerapkan transformasi pada kolom tertentu.\n",
        "\n",
        "**OneHotEncoder()** mengubah data kategori menjadi bentuk biner (0 dan 1).\n",
        "\n",
        "**fit_transform(x)** menerapkan encoding pada kolom pertama (indeks 0).\n",
        "\n",
        "**np.array(...)** mengonversi hasilnya menjadi array NumPy untuk kompatibilitas dengan model machine learning."
      ],
      "metadata": {
        "id": "U1pxJyTlPeS_"
      }
    },
    {
      "cell_type": "code",
      "source": [
        "print(x)"
      ],
      "metadata": {
        "colab": {
          "base_uri": "https://localhost:8080/"
        },
        "id": "lyhi80ksPuNw",
        "outputId": "07fe2944-07ae-4694-bf69-f085d6d13c4f"
      },
      "execution_count": 60,
      "outputs": [
        {
          "output_type": "stream",
          "name": "stdout",
          "text": [
            "[[0.0 0.0 0.0 0.0 1.0 27.0 3.75]\n",
            " [0.0 1.0 0.0 0.0 0.0 24.0 3.77]\n",
            " [0.0 0.0 0.0 1.0 0.0 26.0 2.46]\n",
            " [0.0 0.0 0.0 0.0 1.0 25.0 2.17]\n",
            " [0.0 1.0 0.0 0.0 0.0 24.0 3.68]\n",
            " [0.0 0.0 1.0 0.0 0.0 20.0 2.08]\n",
            " [1.0 0.0 0.0 0.0 0.0 27.0 2.79]\n",
            " [0.0 0.0 1.0 0.0 0.0 27.0 3.22]\n",
            " [1.0 0.0 0.0 0.0 0.0 23.0 3.5]\n",
            " [0.0 1.0 0.0 0.0 0.0 26.0 3.88]\n",
            " [0.0 1.0 0.0 0.0 0.0 23.0 2.82]\n",
            " [1.0 0.0 0.0 0.0 0.0 29.0 3.17]\n",
            " [0.0 0.0 0.0 1.0 0.0 29.0 2.8]\n",
            " [0.0 0.0 1.0 0.0 0.0 27.0 3.32]\n",
            " [0.0 1.0 0.0 0.0 0.0 26.0 3.74]\n",
            " [0.0 1.0 0.0 0.0 0.0 22.0 3.43]\n",
            " [0.0 0.0 0.0 1.0 0.0 26.0 2.61]\n",
            " [0.0 0.0 1.0 0.0 0.0 22.0 2.38]\n",
            " [0.0 0.0 0.0 0.0 1.0 28.0 2.05]\n",
            " [1.0 0.0 0.0 0.0 0.0 28.0 2.72]]\n"
          ]
        }
      ]
    },
    {
      "cell_type": "code",
      "source": [
        "from sklearn.preprocessing import LabelEncoder\n",
        "le = LabelEncoder()\n",
        "y = le.fit_transform(y)"
      ],
      "metadata": {
        "id": "4BXko0BGTwB8"
      },
      "execution_count": 61,
      "outputs": []
    },
    {
      "cell_type": "markdown",
      "source": [
        "**LabelEncoder()** digunakan untuk mengubah nilai kategori menjadi angka (misalnya, \"Ya\" → 1, \"Tidak\" → 0).\n",
        "\n",
        "**fit_transform(y)** menyesuaikan encoder dengan data dan langsung mengonversinya."
      ],
      "metadata": {
        "id": "CMg4PjQOULKQ"
      }
    },
    {
      "cell_type": "code",
      "source": [
        "print(y)"
      ],
      "metadata": {
        "colab": {
          "base_uri": "https://localhost:8080/"
        },
        "id": "GzmjpU3oUZa-",
        "outputId": "71b5a1d8-7489-42ef-d685-88b2ac8deb88"
      },
      "execution_count": 62,
      "outputs": [
        {
          "output_type": "stream",
          "name": "stdout",
          "text": [
            "[1 1 0 0 1 0 0 0 1 1 0 0 0 0 1 0 0 0 0 0]\n"
          ]
        }
      ]
    },
    {
      "cell_type": "code",
      "source": [
        "from sklearn.model_selection import train_test_split\n",
        "x_train,x_test,y_train,y_test=train_test_split(x,y,test_size=0.2,random_state=1)"
      ],
      "metadata": {
        "id": "HbHikdF9UbX8"
      },
      "execution_count": 63,
      "outputs": []
    },
    {
      "cell_type": "markdown",
      "source": [
        " **train_test_split(x, y, test_size=0.2, random_state=1)**\n",
        "\n",
        "**x** → Data fitur (input).\n",
        "\n",
        "**y** → Data target (output).\n",
        "\n",
        "**test_size=0.2** → 20% data untuk pengujian, 80% untuk pelatihan.\n",
        "\n",
        "**random_state=1** → Memastikan pembagian data tetap sama setiap kali kode dijalankan."
      ],
      "metadata": {
        "id": "hELL0KBXU60G"
      }
    },
    {
      "cell_type": "code",
      "source": [
        "print(x_train)"
      ],
      "metadata": {
        "colab": {
          "base_uri": "https://localhost:8080/"
        },
        "id": "ULSDMjyUVHOB",
        "outputId": "1f3aa585-f4ec-49c6-925c-8f5be4117901"
      },
      "execution_count": 64,
      "outputs": [
        {
          "output_type": "stream",
          "name": "stdout",
          "text": [
            "[[0.0 0.0 0.0 1.0 0.0 26.0 2.46]\n",
            " [0.0 1.0 0.0 0.0 0.0 26.0 3.74]\n",
            " [0.0 1.0 0.0 0.0 0.0 24.0 3.68]\n",
            " [0.0 0.0 1.0 0.0 0.0 22.0 2.38]\n",
            " [0.0 0.0 1.0 0.0 0.0 27.0 3.22]\n",
            " [0.0 1.0 0.0 0.0 0.0 24.0 3.77]\n",
            " [0.0 0.0 1.0 0.0 0.0 27.0 3.32]\n",
            " [0.0 0.0 0.0 0.0 1.0 27.0 3.75]\n",
            " [1.0 0.0 0.0 0.0 0.0 28.0 2.72]\n",
            " [0.0 0.0 0.0 0.0 1.0 28.0 2.05]\n",
            " [0.0 1.0 0.0 0.0 0.0 26.0 3.88]\n",
            " [0.0 1.0 0.0 0.0 0.0 22.0 3.43]\n",
            " [1.0 0.0 0.0 0.0 0.0 23.0 3.5]\n",
            " [0.0 0.0 0.0 1.0 0.0 29.0 2.8]\n",
            " [1.0 0.0 0.0 0.0 0.0 29.0 3.17]\n",
            " [0.0 0.0 1.0 0.0 0.0 20.0 2.08]]\n"
          ]
        }
      ]
    },
    {
      "cell_type": "code",
      "source": [
        "print(x_test)"
      ],
      "metadata": {
        "colab": {
          "base_uri": "https://localhost:8080/"
        },
        "id": "k4TgBBtDVaZH",
        "outputId": "e93b609c-6215-4d8f-d3d8-4036acf7c52b"
      },
      "execution_count": 65,
      "outputs": [
        {
          "output_type": "stream",
          "name": "stdout",
          "text": [
            "[[0.0 0.0 0.0 0.0 1.0 25.0 2.17]\n",
            " [0.0 0.0 0.0 1.0 0.0 26.0 2.61]\n",
            " [1.0 0.0 0.0 0.0 0.0 27.0 2.79]\n",
            " [0.0 1.0 0.0 0.0 0.0 23.0 2.82]]\n"
          ]
        }
      ]
    },
    {
      "cell_type": "code",
      "source": [
        "print(y_train)"
      ],
      "metadata": {
        "colab": {
          "base_uri": "https://localhost:8080/"
        },
        "id": "1gtQfRgeVdPJ",
        "outputId": "947e5a4f-8f12-4aff-a682-6abb37f85c0d"
      },
      "execution_count": 66,
      "outputs": [
        {
          "output_type": "stream",
          "name": "stdout",
          "text": [
            "[0 1 1 0 0 1 0 1 0 0 1 0 1 0 0 0]\n"
          ]
        }
      ]
    },
    {
      "cell_type": "code",
      "source": [
        "print(y_test)"
      ],
      "metadata": {
        "colab": {
          "base_uri": "https://localhost:8080/"
        },
        "id": "127O0hn9Vfbx",
        "outputId": "08f67453-106d-475a-a9d2-775288cdeb98"
      },
      "execution_count": 67,
      "outputs": [
        {
          "output_type": "stream",
          "name": "stdout",
          "text": [
            "[0 0 0 0]\n"
          ]
        }
      ]
    },
    {
      "cell_type": "code",
      "source": [
        "from sklearn.preprocessing import StandardScaler\n",
        "sc = StandardScaler()\n",
        "x_train[:, 3:] = sc.fit_transform(x_train[:, 3:])\n",
        "x_test[:, 3:] = sc.transform(x_test[:, 3:])"
      ],
      "metadata": {
        "id": "aCSx3VqFViMm"
      },
      "execution_count": 68,
      "outputs": []
    },
    {
      "cell_type": "markdown",
      "source": [
        "**StandardScaler()** → Digunakan untuk mengubah skala fitur agar lebih seragam, membantu model machine learning bekerja lebih optimal.\n",
        "\n",
        "**sc.fit_transform(x_train[:, 3:])** → Menyesuaikan scaler berdasarkan data pelatihan dan mengubahnya ke skala standar.\n",
        "\n",
        "**sc.transform(x_test[:, 3:])** → Menerapkan transformasi yang sama pada data pengujian tanpa menghitung ulang parameter (mean & std dev tetap dari x_train)."
      ],
      "metadata": {
        "id": "YH6Weae4V7L-"
      }
    },
    {
      "cell_type": "code",
      "source": [
        "print(x_train)"
      ],
      "metadata": {
        "colab": {
          "base_uri": "https://localhost:8080/"
        },
        "id": "3sRZ5eB9VsDA",
        "outputId": "e9a2f709-5ad0-4582-f630-74f515299e44"
      },
      "execution_count": 69,
      "outputs": [
        {
          "output_type": "stream",
          "name": "stdout",
          "text": [
            "[[0.0 0.0 0.0 2.6457513110645903 -0.3779644730092272 0.19069251784911848\n",
            "  -1.0936680867575443]\n",
            " [0.0 1.0 0.0 -0.3779644730092272 -0.3779644730092272 0.19069251784911848\n",
            "  1.0213765229492078]\n",
            " [0.0 1.0 0.0 -0.3779644730092272 -0.3779644730092272 -0.5720775535473553\n",
            "  0.9222338068692038]\n",
            " [0.0 0.0 1.0 -0.3779644730092272 -0.3779644730092272 -1.3348476249438292\n",
            "  -1.2258583748642164]\n",
            " [0.0 0.0 1.0 -0.3779644730092272 -0.3779644730092272 0.5720775535473553\n",
            "  0.16213965025583987]\n",
            " [0.0 1.0 0.0 -0.3779644730092272 -0.3779644730092272 -0.5720775535473553\n",
            "  1.0709478809892095]\n",
            " [0.0 0.0 1.0 -0.3779644730092272 -0.3779644730092272 0.5720775535473553\n",
            "  0.3273775103891793]\n",
            " [0.0 0.0 0.0 -0.3779644730092272 2.6457513110645903 0.5720775535473553\n",
            "  1.0379003089625414]\n",
            " [1.0 0.0 0.0 -0.3779644730092272 -0.3779644730092272 0.9534625892455924\n",
            "  -0.6640496504108601]\n",
            " [0.0 0.0 0.0 -0.3779644730092272 2.6457513110645903 0.9534625892455924\n",
            "  -1.7711433133042385]\n",
            " [0.0 1.0 0.0 -0.3779644730092272 -0.3779644730092272 0.19069251784911848\n",
            "  1.2527095271358832]\n",
            " [0.0 1.0 0.0 -0.3779644730092272 -0.3779644730092272 -1.3348476249438292\n",
            "  0.5091391565358538]\n",
            " [1.0 0.0 0.0 -0.3779644730092272 -0.3779644730092272 -0.9534625892455924\n",
            "  0.6248056586291915]\n",
            " [0.0 0.0 0.0 2.6457513110645903 -0.3779644730092272 1.3348476249438292\n",
            "  -0.5318593623041886]\n",
            " [1.0 0.0 0.0 -0.3779644730092272 -0.3779644730092272 1.3348476249438292\n",
            "  0.07952072018916946]\n",
            " [0.0 0.0 1.0 -0.3779644730092272 -0.3779644730092272 -2.0976176963403033\n",
            "  -1.7215719552642361]]\n"
          ]
        }
      ]
    },
    {
      "cell_type": "code",
      "source": [
        "print(x_test)"
      ],
      "metadata": {
        "colab": {
          "base_uri": "https://localhost:8080/"
        },
        "id": "CLcPxWtlVwCv",
        "outputId": "e785a31e-7623-4eca-d2fe-5f98308d3a85"
      },
      "execution_count": 70,
      "outputs": [
        {
          "output_type": "stream",
          "name": "stdout",
          "text": [
            "[[0.0 0.0 0.0 -0.3779644730092272 2.6457513110645903 -0.19069251784911848\n",
            "  -1.5728578811442304]\n",
            " [0.0 0.0 0.0 2.6457513110645903 -0.3779644730092272 0.19069251784911848\n",
            "  -0.8458112965575345]\n",
            " [1.0 0.0 0.0 -0.3779644730092272 -0.3779644730092272 0.5720775535473553\n",
            "  -0.5483831483175223]\n",
            " [0.0 1.0 0.0 -0.3779644730092272 -0.3779644730092272 -0.9534625892455924\n",
            "  -0.49881179027752065]]\n"
          ]
        }
      ]
    }
  ]
}